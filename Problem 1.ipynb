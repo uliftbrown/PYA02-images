{
 "cells": [
  {
   "cell_type": "markdown",
   "metadata": {},
   "source": [
    "### 재구의 여름 휴가\n",
    "\n",
    "![image](https://github.com/uliftbrown/PYA02-images/blob/main/Lecture%2001%20Problem%201.png?raw=true)\n",
    "\n",
    "### 문제\n",
    "\n",
    "재구는 여름을 맞아 바닷가로 여행을 가려고 합니다. 이번 여행이 너무 기대되었던 재구는 이동할 동선도 미리 다 계획해 두었는데요. 집에서 출발해 공항으로 이동한 뒤, 비행기에서 내려 호텔에 짐을 풀고 관광지로 갈 예정입니다. 관광지에 도착한 뒤에는 방문 순서를 거꾸로 하여 집으로 돌아올 것입니다. (집 → 공항 → 호텔 → 관광지 → 호텔 → 공항 → 집)\n",
    "\n",
    "재귀 함수를 좋아하는 재구는 문득 이 과정을 재귀 함수를 이용해 나타낼 수 있을 것 같다는 생각이 들었습니다. 재구를 도와 코드의 빈칸을 완성해 주세요.\n",
    "\n",
    "### 조건\n",
    "\n",
    "- 집 → 공항 → 호텔 → 관광지 → 호텔 → 공항 → 집 순서로 이동합니다.\n",
    "- 재귀 함수의 index 값은 0 → 1 → 2 → 3 → 2 → 1 → 0 순서로 변화합니다.\n",
    "- 변화하는 index 값으로 리스트에 접근해 순서에 맞게 장소 이름을 출력합니다."
   ]
  },
  {
   "cell_type": "markdown",
   "metadata": {},
   "source": [
    "### 빈칸 코드\n",
    "```python\n",
    "locations = [\"집\", \"공항\", \"호텔\", \"관광지\"]\n",
    "\n",
    "def travel(index):\n",
    "    print(f\"지금은 {locations[index]}에 있어요.\")\n",
    "\n",
    "    if index == 3:\n",
    "        print(f\"이제 다시 되돌아가요.\")\n",
    "        return\n",
    "\n",
    "    travel(□□□□□□□□□)\n",
    "\n",
    "    print(f\"{locations[index]}으로 돌아왔어요.\")\n",
    "\n",
    "travel(0)\n",
    "```"
   ]
  },
  {
   "cell_type": "markdown",
   "metadata": {},
   "source": [
    "### 선택지\n",
    "```\n",
    "- index - 1\n",
    "- index\n",
    "- index + 1\n",
    "- n - 1\n",
    "- n\n",
    "- n + 1\n",
    "```"
   ]
  },
  {
   "cell_type": "code",
   "execution_count": 2,
   "metadata": {},
   "outputs": [
    {
     "name": "stdout",
     "output_type": "stream",
     "text": [
      "지금은 집에 있어요.\n",
      "지금은 공항에 있어요.\n",
      "지금은 호텔에 있어요.\n",
      "지금은 관광지에 있어요.\n",
      "이제 다시 되돌아가요.\n",
      "호텔으로 돌아왔어요.\n",
      "공항으로 돌아왔어요.\n",
      "집으로 돌아왔어요.\n"
     ]
    }
   ],
   "source": [
    "# 완성 코드\n",
    "locations = [\"집\", \"공항\", \"호텔\", \"관광지\"]\n",
    "\n",
    "\n",
    "def travel(index):\n",
    "    print(f\"지금은 {locations[index]}에 있어요.\")\n",
    "\n",
    "    if index == 3:\n",
    "        print(f\"이제 다시 되돌아가요.\")\n",
    "        return\n",
    "\n",
    "    travel(index + 1)\n",
    "\n",
    "    print(f\"{locations[index]}으로 돌아왔어요.\")\n",
    "\n",
    "\n",
    "travel(0)"
   ]
  }
 ],
 "metadata": {
  "kernelspec": {
   "display_name": "Python 3",
   "language": "python",
   "name": "python3"
  },
  "language_info": {
   "codemirror_mode": {
    "name": "ipython",
    "version": 3
   },
   "file_extension": ".py",
   "mimetype": "text/x-python",
   "name": "python",
   "nbconvert_exporter": "python",
   "pygments_lexer": "ipython3",
   "version": "3.9.6"
  }
 },
 "nbformat": 4,
 "nbformat_minor": 2
}
